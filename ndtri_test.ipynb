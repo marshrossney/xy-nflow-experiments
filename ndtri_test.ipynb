{
 "cells": [
  {
   "cell_type": "markdown",
   "id": "0a1474c2-ebbb-4712-9424-e71f13f2fbbb",
   "metadata": {},
   "source": [
    "# Testing inversion sampling for the Gaussian"
   ]
  },
  {
   "cell_type": "code",
   "execution_count": null,
   "id": "6c380a3d-1358-4148-92b5-081f5a004651",
   "metadata": {},
   "outputs": [],
   "source": [
    "import math\n",
    "from random import random\n",
    "\n",
    "import numpy as np\n",
    "import torch\n",
    "from torch.distributions import (\n",
    "    constraints,\n",
    "    Transform,\n",
    "    TransformedDistribution,\n",
    "    Normal,\n",
    "    Uniform,\n",
    "    VonMises,\n",
    ")\n",
    "import matplotlib.pyplot as plt\n",
    "\n",
    "%load_ext lab_black"
   ]
  },
  {
   "cell_type": "code",
   "execution_count": null,
   "id": "7d346556-0825-421d-aeeb-ae422448ed49",
   "metadata": {},
   "outputs": [],
   "source": [
    "class GaussToUnif(Transform):\n",
    "    bijective = True\n",
    "    domain = constraints.real\n",
    "    codomain = constraints.interval(0, 1)\n",
    "\n",
    "    def __init__(self, gauss_sigma=1, unif_low=0, unif_high=1):\n",
    "        super().__init__()\n",
    "        self._gauss_sigma = gauss_sigma\n",
    "        self._unif_low = unif_low\n",
    "        self._unif_high = unif_high\n",
    "        self._unif_interval = unif_high - unif_low\n",
    "        self._gauss = Normal(loc=0, scale=gauss_sigma)\n",
    "\n",
    "    def _call(self, x):\n",
    "        \"\"\"Gauss -> Uniform\"\"\"\n",
    "        return (\n",
    "            torch.special.ndtr(x / self._gauss_sigma) * self._unif_interval\n",
    "            + self._unif_low\n",
    "        )\n",
    "\n",
    "    def _inverse(self, z):\n",
    "        \"\"\"Uniform -> Gauss\"\"\"\n",
    "        return (\n",
    "            torch.special.ndtri((z - self._unif_low) / self._unif_interval)\n",
    "            * self._gauss_sigma\n",
    "        )\n",
    "\n",
    "    def log_abs_det_jacobian(self, x, z):\n",
    "        return self._gauss.log_prob(x)"
   ]
  },
  {
   "cell_type": "code",
   "execution_count": null,
   "id": "f1aed7ed-1743-470e-8a75-ba8924d10117",
   "metadata": {
    "tags": []
   },
   "outputs": [],
   "source": [
    "GAUSS_SIGMA = 0.05\n",
    "UNIF_LOW = 0\n",
    "UNIF_HIGH = 1\n",
    "N_SAMPLE = 1e7\n",
    "N_BINS = 100\n",
    "\n",
    "target = Normal(loc=0, scale=GAUSS_SIGMA)\n",
    "model = TransformedDistribution(\n",
    "    base_distribution=Uniform(low=UNIF_LOW, high=UNIF_HIGH),\n",
    "    transforms=GaussToUnif(GAUSS_SIGMA, UNIF_LOW, UNIF_HIGH).inv,\n",
    ")\n",
    "\n",
    "\n",
    "bins = torch.linspace(-5 * GAUSS_SIGMA, 5 * GAUSS_SIGMA, N_BINS)\n",
    "midpoints = 0.5 * (bins[:-1] + bins[1:])\n",
    "target_func = target.log_prob(midpoints).exp().numpy()\n",
    "\n",
    "model_sample = model.sample([int(N_SAMPLE)])\n",
    "model_hist, _ = np.histogram(model_sample.numpy(), bins=bins, density=True)\n",
    "rel_error = (model_hist - target_func) / target_func\n",
    "\n",
    "fig, ax = plt.subplots(figsize=(12, 8))\n",
    "ax.hist(model_sample.numpy(), bins=bins, label=\"model\", density=True)\n",
    "ax.plot(midpoints, target_func, \"r--\", label=\"target\")\n",
    "ax.set_ylabel(\"density\")\n",
    "ax.set_xlabel(\"x\")\n",
    "ax.legend()\n",
    "# fig.savefig(\"ndtri_test_density.png\")\n",
    "\n",
    "fig2, ax2 = plt.subplots(figsize=(12, 8))\n",
    "ax2.plot(rel_error, \"bo\", label=\"model > target\")\n",
    "ax2.plot(-rel_error, \"ro\", label=\"model < target\")\n",
    "ax2.set_yscale(\"log\")\n",
    "ax2.set_ylabel(\"|(model - target) / target|\")\n",
    "ax2.set_xlabel(\"x\")\n",
    "ax2.legend()\n",
    "# fig2.savefig(\"ndtri_test_rel_error.png\")"
   ]
  }
 ],
 "metadata": {
  "kernelspec": {
   "display_name": "Python 3",
   "language": "python",
   "name": "python3"
  },
  "language_info": {
   "codemirror_mode": {
    "name": "ipython",
    "version": 3
   },
   "file_extension": ".py",
   "mimetype": "text/x-python",
   "name": "python",
   "nbconvert_exporter": "python",
   "pygments_lexer": "ipython3",
   "version": "3.9.7"
  }
 },
 "nbformat": 4,
 "nbformat_minor": 5
}
