{
 "cells": [
  {
   "cell_type": "markdown",
   "id": "de62659d-7924-4881-b739-45af24dde09a",
   "metadata": {},
   "source": [
    "# Local updates MCMC"
   ]
  },
  {
   "cell_type": "code",
   "execution_count": 1,
   "id": "8cb7ade3-d77c-4ee9-a299-a54252e2aad0",
   "metadata": {},
   "outputs": [
    {
     "name": "stderr",
     "output_type": "stream",
     "text": [
      "INFO:blib2to3.pgen2.driver:Generating grammar tables from /home/joe/.miniconda3/envs/xy/lib/python3.9/site-packages/blib2to3/Grammar.txt\n",
      "INFO:blib2to3.pgen2.driver:Writing grammar tables to /home/joe/.cache/black/22.1.0/Grammar3.9.7.final.0.pickle\n",
      "INFO:blib2to3.pgen2.driver:Writing failed: [Errno 2] No such file or directory: '/home/joe/.cache/black/22.1.0/tmpad6oi_u2'\n",
      "INFO:blib2to3.pgen2.driver:Generating grammar tables from /home/joe/.miniconda3/envs/xy/lib/python3.9/site-packages/blib2to3/PatternGrammar.txt\n",
      "INFO:blib2to3.pgen2.driver:Writing grammar tables to /home/joe/.cache/black/22.1.0/PatternGrammar3.9.7.final.0.pickle\n",
      "INFO:blib2to3.pgen2.driver:Writing failed: [Errno 2] No such file or directory: '/home/joe/.cache/black/22.1.0/tmpn73n6pmm'\n"
     ]
    }
   ],
   "source": [
    "from __future__ import annotations\n",
    "\n",
    "import math\n",
    "import torch\n",
    "import numpy as np\n",
    "import matplotlib.pyplot as plt\n",
    "import random\n",
    "\n",
    "import actions\n",
    "import mcmc\n",
    "import transforms\n",
    "import utils\n",
    "\n",
    "PI = math.pi\n",
    "\n",
    "%load_ext lab_black"
   ]
  },
  {
   "cell_type": "code",
   "execution_count": 2,
   "id": "2e71b74f-b5a6-4723-85c7-fb5f81c94854",
   "metadata": {},
   "outputs": [],
   "source": [
    "LATTICE_SHAPE = [10, 10]\n",
    "COUPLING_STRENGTH = 0.8\n",
    "INIT_CONFIG = torch.empty(LATTICE_SHAPE).uniform_(-PI, PI)\n",
    "N_SWEEPS = 10000"
   ]
  },
  {
   "cell_type": "code",
   "execution_count": 3,
   "id": "515270b7-7c9c-44ea-b9c4-7680cbc53113",
   "metadata": {},
   "outputs": [
    {
     "data": {
      "text/plain": [
       "0.424796"
      ]
     },
     "execution_count": 3,
     "metadata": {},
     "output_type": "execute_result"
    }
   ],
   "source": [
    "metropolis_sampler = mcmc.MetropolisSampler(INIT_CONFIG, COUPLING_STRENGTH)\n",
    "metropolis_sampler.sample(n_sweeps=N_SWEEPS)"
   ]
  },
  {
   "cell_type": "code",
   "execution_count": null,
   "id": "b5226691-be34-4a48-b86a-3bf6372824c3",
   "metadata": {},
   "outputs": [],
   "source": [
    "heatbath_sampler = mcmc.HeatbathSampler(INIT_CONFIG, COUPLING_STRENGTH)\n",
    "heatbath_sampler.sample(n_sweeps=N_SWEEPS)"
   ]
  },
  {
   "cell_type": "code",
   "execution_count": null,
   "id": "1fbe8498-7ea2-41a7-82d9-fc71f4f87d72",
   "metadata": {},
   "outputs": [],
   "source": [
    "gibbs_sampler = mcmc.CheckerboardGibbsSampler(INIT_CONFIG, COUPLING_STRENGTH)\n",
    "gibbs_sampler.sample(n_sweeps=N_SWEEPS)"
   ]
  },
  {
   "cell_type": "code",
   "execution_count": null,
   "id": "5bc9a223-f5f5-49f2-97b0-faac5ccaea4d",
   "metadata": {},
   "outputs": [],
   "source": [
    "e_met, e_hb, e_gibbs = (\n",
    "    metropolis_sampler.history[\"energy\"],\n",
    "    heatbath_sampler.history[\"energy\"],\n",
    "    gibbs_sampler.history[\"energy\"],\n",
    ")\n",
    "\n",
    "print(\"Metropolis: \", sum(e_met) / len(e_met))\n",
    "print(\"Heat bath: \", sum(e_hb) / len(e_hb))\n",
    "print(\"Gibbs: \", sum(e_gibbs) / len(e_gibbs))\n",
    "\n",
    "plt.plot(metropolis_sampler.history[\"energy\"], label=\"metropolis\")\n",
    "plt.plot(heatbath_sampler.history[\"energy\"], label=\"heat bath\")\n",
    "plt.plot(gibbs_sampler.history[\"energy\"], label=\"Gibbs / checker\")\n",
    "plt.legend()"
   ]
  },
  {
   "cell_type": "code",
   "execution_count": null,
   "id": "554a7bde-7918-4950-b8c2-04de3bf0dd40",
   "metadata": {},
   "outputs": [],
   "source": [
    "e_met, e_hb, e_gibbs = (\n",
    "    metropolis_sampler.history[\"magnetisation_sq\"],\n",
    "    heatbath_sampler.history[\"magnetisation_sq\"],\n",
    "    gibbs_sampler.history[\"magnetisation_sq\"],\n",
    ")\n",
    "\n",
    "print(\"Metropolis: \", sum(e_met) / len(e_met))\n",
    "print(\"Heat bath: \", sum(e_hb) / len(e_hb))\n",
    "print(\"Gibbs: \", sum(e_gibbs) / len(e_gibbs))\n",
    "\n",
    "plt.plot(metropolis_sampler.history[\"magnetisation_sq\"], label=\"metropolis\")\n",
    "plt.plot(heatbath_sampler.history[\"magnetisation_sq\"], label=\"heat bath\")\n",
    "plt.plot(gibbs_sampler.history[\"magnetisation_sq\"], label=\"Gibbs / checker\")\n",
    "plt.legend()"
   ]
  },
  {
   "cell_type": "raw",
   "id": "640a6a3d-3572-4544-87a5-c33bd55d8a5c",
   "metadata": {},
   "source": [
    "plt.hist(metropolis_sampler.config, bins=30, histtype=\"step\", density=True)\n",
    "plt.hist(heatbath_sampler.config, bins=30, histtype=\"step\", density=True)\n",
    "plt.hist(\n",
    "    gibbs_sampler.config.flatten().tolist(), bins=30, histtype=\"step\", density=True\n",
    ")"
   ]
  },
  {
   "cell_type": "code",
   "execution_count": null,
   "id": "888603c0-3527-4a3f-9bea-abda72b0608d",
   "metadata": {},
   "outputs": [],
   "source": []
  }
 ],
 "metadata": {
  "kernelspec": {
   "display_name": "Python 3",
   "language": "python",
   "name": "python3"
  },
  "language_info": {
   "codemirror_mode": {
    "name": "ipython",
    "version": 3
   },
   "file_extension": ".py",
   "mimetype": "text/x-python",
   "name": "python",
   "nbconvert_exporter": "python",
   "pygments_lexer": "ipython3",
   "version": "3.9.7"
  }
 },
 "nbformat": 4,
 "nbformat_minor": 5
}
