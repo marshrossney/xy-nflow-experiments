{
 "cells": [
  {
   "cell_type": "code",
   "execution_count": 1,
   "id": "06c920ea-cef1-458b-a53f-1c7ceaf10b16",
   "metadata": {},
   "outputs": [
    {
     "name": "stderr",
     "output_type": "stream",
     "text": [
      "INFO:blib2to3.pgen2.driver:Generating grammar tables from /home/joe/.miniconda3/envs/xy/lib/python3.9/site-packages/blib2to3/Grammar.txt\n",
      "INFO:blib2to3.pgen2.driver:Writing grammar tables to /home/joe/.cache/black/22.1.0/Grammar3.9.7.final.0.pickle\n",
      "INFO:blib2to3.pgen2.driver:Writing failed: [Errno 2] No such file or directory: '/home/joe/.cache/black/22.1.0/tmpsuwiwxuf'\n",
      "INFO:blib2to3.pgen2.driver:Generating grammar tables from /home/joe/.miniconda3/envs/xy/lib/python3.9/site-packages/blib2to3/PatternGrammar.txt\n",
      "INFO:blib2to3.pgen2.driver:Writing grammar tables to /home/joe/.cache/black/22.1.0/PatternGrammar3.9.7.final.0.pickle\n",
      "INFO:blib2to3.pgen2.driver:Writing failed: [Errno 2] No such file or directory: '/home/joe/.cache/black/22.1.0/tmpf1irt2sf'\n"
     ]
    }
   ],
   "source": [
    "from __future__ import annotations\n",
    "\n",
    "import math\n",
    "import torch\n",
    "import torch.nn.functional as F\n",
    "import pytorch_lightning as pl\n",
    "import matplotlib.pyplot as plt\n",
    "\n",
    "import actions\n",
    "import mcmc\n",
    "import transforms\n",
    "import utils\n",
    "\n",
    "Tensor: TypeAlias = torch.Tensor\n",
    "BoolTensor: TypeAlias = torch.BoolTensor\n",
    "Module: TypeAlias = torch.nn.Module\n",
    "IterableDataset: TypeAlias = torch.utils.data.IterableDataset\n",
    "\n",
    "PI = math.pi\n",
    "\n",
    "%load_ext lab_black\n",
    "%load_ext tensorboard"
   ]
  },
  {
   "cell_type": "markdown",
   "id": "15a93e0b-1f18-4108-b305-88f0ee49ced2",
   "metadata": {},
   "source": [
    "## 1D XY chain with free boundary conditions"
   ]
  },
  {
   "cell_type": "code",
   "execution_count": 2,
   "id": "5a7083ff-3c7b-4a8b-8c80-a2a6848d1a01",
   "metadata": {},
   "outputs": [],
   "source": [
    "def action(phi: Tensor, beta: float) -> Tensor:\n",
    "    links = phi[:, 1:] - phi[:, :-1]\n",
    "    action = links.cos().sum(dim=1).mul(beta).neg()\n",
    "    return action\n",
    "\n",
    "\n",
    "def magnetisation_sq(phi: Tensor) -> Tensor:\n",
    "    return phi.cos().mean(dim=1).pow(2) + phi.sin().mean(dim=1).pow(2)\n",
    "\n",
    "\n",
    "def local_field_strength(phi: Tensor) -> tuple[Tensor]:\n",
    "    cos_phi, sin_phi = F.pad(phi.cos(), (1, 1)), F.pad(phi.sin(), (1, 1))\n",
    "    m1 = cos_phi[:, 2:] + cos_phi[:, :-2]\n",
    "    m2 = sin_phi[:, 2:] + sin_phi[:, :-2]\n",
    "    return m1, m2\n",
    "\n",
    "\n",
    "def log_norm(n_spins: int, beta: float):\n",
    "    return torch.full((1, n_spins), 2 * PI).log().sum(dim=1) + torch.full(\n",
    "        (1, n_spins - 1), beta\n",
    "    ).i0().log().sum(dim=1)"
   ]
  },
  {
   "cell_type": "code",
   "execution_count": 20,
   "id": "c2fd5297-bc89-4b9d-be35-8e322adaea97",
   "metadata": {},
   "outputs": [],
   "source": [
    "def gibbs_update(phi: Tensor, update_indices: Tensor, calc_prob: bool = False):\n",
    "    prev_spins = phi.index_select(dim=1, index=update_indices)\n",
    "\n",
    "    # Compute forward transition probabilities\n",
    "    m1, m2 = local_field_strength(phi)\n",
    "    m1 = m1.index_select(dim=1, index=update_indices)\n",
    "    m2 = m2.index_select(dim=1, index=update_indices)\n",
    "\n",
    "    kappa = (beta * (m1.pow(2) + m2.pow(2)).sqrt()).clamp_(min=0.01)\n",
    "    theta = torch.atan2(m2, m1)\n",
    "\n",
    "    # Sample from forward conditional distribution\n",
    "    forward_dist = torch.distributions.VonMises(loc=theta, concentration=kappa)\n",
    "    new_spins = forward_dist.sample()\n",
    "\n",
    "    phi_new = phi.clone()\n",
    "    phi_new[:, update_indices] = new_spins\n",
    "\n",
    "    if not calc_prob:\n",
    "        return phi_new\n",
    "\n",
    "    log_prob_forward = forward_dist.log_prob(new_spins).sum(dim=1)\n",
    "\n",
    "    # Compute reverse transition probabilities\n",
    "    m1, m2 = local_field_strength(phi_new)\n",
    "    m1 = m1.index_select(dim=1, index=update_indices)\n",
    "    m2 = m2.index_select(dim=1, index=update_indices)\n",
    "\n",
    "    kappa = (beta * (m1.pow(2) + m2.pow(2)).sqrt()).clamp_(min=0.01)\n",
    "    theta = torch.atan2(m2, m1)\n",
    "\n",
    "    reverse_dist = torch.distributions.VonMises(loc=theta, concentration=kappa)\n",
    "    log_prob_reverse = reverse_dist.log_prob(prev_spins).sum(dim=1)\n",
    "\n",
    "    return phi_new, log_prob_forward - log_prob_reverse"
   ]
  },
  {
   "cell_type": "markdown",
   "id": "9e69ebe6-0d75-4197-aa51-223302f2e182",
   "metadata": {
    "tags": []
   },
   "source": [
    "## Check exact sampling of links"
   ]
  },
  {
   "cell_type": "code",
   "execution_count": 21,
   "id": "03277f28-1188-44b2-9ad6-ff1e70c200ea",
   "metadata": {},
   "outputs": [],
   "source": [
    "n_sample = 1000\n",
    "n_spins = 10\n",
    "beta = 0.8\n",
    "\n",
    "links_sampler = torch.distributions.VonMises(loc=0, concentration=beta)\n",
    "links = links_sampler.sample((n_sample, n_spins - 1))\n",
    "log_prob_model = (\n",
    "    links_sampler.log_prob(links).sum(dim=1) - torch.full([n_sample], 2 * PI).log()\n",
    ")\n",
    "\n",
    "spins = torch.cumsum(\n",
    "    torch.cat([torch.empty((n_sample, 1)).uniform_(-PI, PI), links], dim=1),\n",
    "    dim=1,\n",
    ")\n",
    "assert torch.allclose(spins[:, 1:] - spins[:, :-1], links, atol=1e-5)\n",
    "\n",
    "log_prob_target = -action(spins, beta) - log_norm(n_spins, beta)\n",
    "weights = log_prob_target - log_prob_model\n",
    "assert torch.allclose(log_prob_target, log_prob_model)"
   ]
  },
  {
   "cell_type": "markdown",
   "id": "bef533b8-c8d2-4564-87d5-9e1f4eeb284e",
   "metadata": {
    "tags": []
   },
   "source": [
    "## Check Gibbs sampling works"
   ]
  },
  {
   "cell_type": "code",
   "execution_count": 22,
   "id": "72b3ca9f-f985-4ec0-a72f-ddd62ba903e0",
   "metadata": {},
   "outputs": [
    {
     "name": "stdout",
     "output_type": "stream",
     "text": [
      "Exact:\n",
      "Energy: -2.672 +/- 0.049\n",
      "Mag sq: 0.2034 +/- 0.0054\n"
     ]
    }
   ],
   "source": [
    "n_sample = 1000\n",
    "n_spins = 10\n",
    "beta = 0.8\n",
    "\n",
    "exact_sample = torch.cumsum(\n",
    "    torch.cat(\n",
    "        [\n",
    "            torch.empty([n_sample, 1]).uniform_(-PI, PI),\n",
    "            links_sampler.sample([n_sample, n_spins - 1]),\n",
    "        ],\n",
    "        dim=1,\n",
    "    ),\n",
    "    dim=1,\n",
    ").remainder(2 * PI)\n",
    "\n",
    "reference_action = action(exact_sample, beta)\n",
    "reference_mag_sq = magnetisation_sq(exact_sample)\n",
    "\n",
    "print(\"Exact:\")\n",
    "print(\n",
    "    f\"Energy: {reference_action.mean():.4g} +/- {reference_action.std()/math.sqrt(reference_action.shape[0]):.2g}\"\n",
    ")\n",
    "print(\n",
    "    f\"Mag sq: {reference_mag_sq.mean():.4g} +/- {reference_mag_sq.std()/math.sqrt(reference_mag_sq.shape[0]):.2g}\"\n",
    ")"
   ]
  },
  {
   "cell_type": "code",
   "execution_count": 23,
   "id": "8c4077a1-de6d-46c6-9d1d-e9e63b157a20",
   "metadata": {},
   "outputs": [
    {
     "name": "stdout",
     "output_type": "stream",
     "text": [
      "Heat bath:\n",
      "Energy: -2.7 +/- 0.047\n",
      "Mag sq: 0.1966 +/- 0.0052\n"
     ]
    }
   ],
   "source": [
    "# Heat bath\n",
    "n_sweeps = 10\n",
    "heatbath_sample = exact_sample.clone()\n",
    "\n",
    "update_indices = torch.randint(0, n_spins, size=(n_spins * n_sweeps, 1))\n",
    "for i in range(n_sweeps * n_spins):\n",
    "    heatbath_sample = gibbs_update(heatbath_sample, update_indices[i])\n",
    "\n",
    "heatbath_action = action(heatbath_sample, beta)\n",
    "heatbath_mag_sq = magnetisation_sq(heatbath_sample)\n",
    "\n",
    "print(\"Heat bath:\")\n",
    "print(\n",
    "    f\"Energy: {heatbath_action.mean():.4g} +/- {heatbath_action.std()/math.sqrt(heatbath_action.shape[0]):.2g}\"\n",
    ")\n",
    "print(\n",
    "    f\"Mag sq: {heatbath_mag_sq.mean():.4g} +/- {heatbath_mag_sq.std()/math.sqrt(heatbath_mag_sq.shape[0]):.2g}\"\n",
    ")"
   ]
  },
  {
   "cell_type": "code",
   "execution_count": 24,
   "id": "dd2ab9ef-436c-4990-8c24-aaf9a5817ea3",
   "metadata": {},
   "outputs": [
    {
     "name": "stdout",
     "output_type": "stream",
     "text": [
      "Gibbs:\n",
      "Energy: -2.632 +/- 0.046\n",
      "Mag sq: 0.1949 +/- 0.0052\n"
     ]
    }
   ],
   "source": [
    "# Checkerboard\n",
    "gibbs_sample = exact_sample.clone()\n",
    "even_sites = torch.arange(0, n_spins, 2)\n",
    "odd_sites = torch.arange(1, n_spins, 2)\n",
    "\n",
    "for _ in range(n_sweeps):\n",
    "    gibbs_sample = gibbs_update(gibbs_sample, even_sites)\n",
    "    gibbs_sample = gibbs_update(gibbs_sample, odd_sites)\n",
    "\n",
    "gibbs_action = action(gibbs_sample, beta)\n",
    "gibbs_mag_sq = magnetisation_sq(gibbs_sample)\n",
    "\n",
    "print(\"Gibbs:\")\n",
    "print(\n",
    "    f\"Energy: {gibbs_action.mean():.4g} +/- {gibbs_action.std()/math.sqrt(gibbs_action.shape[0]):.2g}\"\n",
    ")\n",
    "print(\n",
    "    f\"Mag sq: {gibbs_mag_sq.mean():.4g} +/- {gibbs_mag_sq.std()/math.sqrt(gibbs_mag_sq.shape[0]):.2g}\"\n",
    ")"
   ]
  },
  {
   "cell_type": "markdown",
   "id": "f73f77f9-d257-43d5-84e2-651c00e4eb29",
   "metadata": {},
   "source": [
    "## Gibbs sampling step after exact sampling"
   ]
  },
  {
   "cell_type": "code",
   "execution_count": 35,
   "id": "3a3e2cb9-1b46-45b6-9bfa-458dca8e0c8a",
   "metadata": {},
   "outputs": [
    {
     "name": "stdout",
     "output_type": "stream",
     "text": [
      "Exact sampling from von Mises...\n",
      "log prob from action: \n",
      " tensor([-14.8371, -15.9839, -19.2774, -18.7554])\n",
      "log prob from von mises: \n",
      " tensor([-14.8371, -15.9839, -19.2774, -18.7554])\n",
      "After one Heatbath update...\n",
      "log prob from action: \n",
      " tensor([-14.9967, -16.1953, -20.6349, -18.8216])\n",
      "log prob from von mises: \n",
      " tensor([-14.9967, -16.1953, -20.6349, -18.8216])\n",
      "After one Checkerboard update...\n",
      "log prob from action: \n",
      " tensor([-16.2260, -18.6741, -17.8651, -14.6803])\n",
      "log prob from von mises: \n",
      " tensor([-16.2260, -18.6741, -17.8651, -14.6803])\n"
     ]
    }
   ],
   "source": [
    "n_sample = 4\n",
    "n_spins = 10\n",
    "beta = 0.8\n",
    "\n",
    "links_sampler = torch.distributions.VonMises(loc=0, concentration=beta)\n",
    "links = links_sampler.sample((n_sample, n_spins - 1))\n",
    "log_prob_model = (\n",
    "    links_sampler.log_prob(links).sum(dim=1) - torch.full([n_sample], 2 * PI).log()\n",
    ")\n",
    "\n",
    "exact_sample = torch.cumsum(\n",
    "    torch.cat([torch.empty((n_sample, 1)).uniform_(-PI, PI), links], dim=1),\n",
    "    dim=1,\n",
    ")\n",
    "\n",
    "log_prob_target = -action(exact_sample, beta) - log_norm(n_spins, beta)\n",
    "weights = log_prob_target - log_prob_model\n",
    "\n",
    "print(\"Exact sampling from von Mises...\")\n",
    "print(\"log prob from action: \\n\", log_prob_model)\n",
    "print(\"log prob from von mises: \\n\", log_prob_target)\n",
    "\n",
    "phi = exact_sample.clone()\n",
    "phi, log_transition_prob = gibbs_update(phi, torch.Tensor([1]).long(), calc_prob=True)\n",
    "log_prob_model.add_(log_transition_prob)\n",
    "log_prob_target = -action(phi, beta) - log_norm(n_spins, beta)\n",
    "\n",
    "print(\"After one Heatbath update...\")\n",
    "print(\"log prob from action: \\n\", log_prob_model)\n",
    "print(\"log prob from von mises: \\n\", log_prob_target)\n",
    "\n",
    "phi, log_transition_prob = gibbs_update(\n",
    "    phi, torch.arange(0, n_spins, 2), calc_prob=True\n",
    ")\n",
    "log_prob_model.add_(log_transition_prob)\n",
    "log_prob_target = -action(phi, beta) - log_norm(n_spins, beta)\n",
    "\n",
    "print(\"After one Checkerboard update...\")\n",
    "print(\"log prob from action: \\n\", log_prob_model)\n",
    "print(\"log prob from von mises: \\n\", log_prob_target)"
   ]
  }
 ],
 "metadata": {
  "kernelspec": {
   "display_name": "Python 3",
   "language": "python",
   "name": "python3"
  },
  "language_info": {
   "codemirror_mode": {
    "name": "ipython",
    "version": 3
   },
   "file_extension": ".py",
   "mimetype": "text/x-python",
   "name": "python",
   "nbconvert_exporter": "python",
   "pygments_lexer": "ipython3",
   "version": "3.9.7"
  }
 },
 "nbformat": 4,
 "nbformat_minor": 5
}
