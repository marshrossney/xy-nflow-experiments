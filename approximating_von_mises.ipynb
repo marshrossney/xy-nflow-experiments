{
 "cells": [
  {
   "cell_type": "markdown",
   "id": "3e2953fa-479c-4688-af89-8b79e7ee84cf",
   "metadata": {},
   "source": [
    "# How well do other distributions approximate the von Mises?"
   ]
  },
  {
   "cell_type": "code",
   "execution_count": null,
   "id": "4cbd3eac-9f81-40a0-a521-99ce090c426d",
   "metadata": {},
   "outputs": [],
   "source": [
    "import math\n",
    "from random import random\n",
    "\n",
    "import numpy as np\n",
    "import torch\n",
    "from torch.distributions import (\n",
    "    constraints,\n",
    "    Transform,\n",
    "    TransformedDistribution,\n",
    "    Normal,\n",
    "    Uniform,\n",
    "    VonMises,\n",
    ")\n",
    "import matplotlib.pyplot as plt\n",
    "\n",
    "import utils\n",
    "\n",
    "%load_ext lab_black"
   ]
  },
  {
   "cell_type": "markdown",
   "id": "8c94a884-97ed-4fa8-a263-f6b505e65cae",
   "metadata": {},
   "source": [
    "## Uniform"
   ]
  },
  {
   "cell_type": "code",
   "execution_count": null,
   "id": "1acce6a2-8516-4797-a0da-054fc1c51f6a",
   "metadata": {},
   "outputs": [],
   "source": [
    "concentrations = torch.linspace(0.01, 0.1, 24)\n",
    "acceptances = []\n",
    "for conc in concentrations:\n",
    "    acceptances.append(\n",
    "        utils.metropolis_acceptance(\n",
    "            Uniform(low=-math.pi, high=math.pi),\n",
    "            VonMises(loc=0, concentration=conc),\n",
    "        )\n",
    "    )\n",
    "fig, ax = plt.subplots()\n",
    "ax.plot(concentrations, acceptances, \"o-\")\n",
    "ax.set_xlabel(\"concentration, rho\")\n",
    "ax.set_ylabel(\"Metropolis acceptance\")\n",
    "ax.set_title(\"Uniform distribution\")\n",
    "fig.tight_layout()\n",
    "#fig.savefig(\"acceptance_unif_vonmises_0.01-0.1.png\")"
   ]
  },
  {
   "cell_type": "markdown",
   "id": "33db32d5-7d43-4745-af87-5859ae039f0d",
   "metadata": {},
   "source": [
    "## Gaussian"
   ]
  },
  {
   "cell_type": "code",
   "execution_count": null,
   "id": "696a8185-f163-47df-bec8-0b416b6f886d",
   "metadata": {},
   "outputs": [],
   "source": [
    "concentrations = torch.linspace(10, 34, 24)\n",
    "acceptances = []\n",
    "for conc in concentrations:\n",
    "    acceptances.append(\n",
    "        utils.metropolis_acceptance(\n",
    "            Normal(loc=0, scale=math.sqrt(1 / conc)),\n",
    "            VonMises(loc=0, concentration=conc),\n",
    "        )\n",
    "    )\n",
    "fig, ax = plt.subplots()\n",
    "ax.plot(concentrations, acceptances, \"o-\")\n",
    "ax.set_xlabel(\"concentration, rho\")\n",
    "ax.set_ylabel(\"Metropolis acceptance\")\n",
    "ax.set_title(\"Gaussian\")\n",
    "fig.savefig(\"acceptance_gauss_vonmises.png\")"
   ]
  },
  {
   "cell_type": "markdown",
   "id": "7fa30e24-a112-473d-ae3d-9c0f3afc982a",
   "metadata": {},
   "source": [
    "## Wrapped Cauchy"
   ]
  },
  {
   "cell_type": "code",
   "execution_count": null,
   "id": "4d4d8e3d-2327-42aa-b003-30d8830259c2",
   "metadata": {},
   "outputs": [],
   "source": [
    "class MobiusTransform(Transform):\n",
    "    bijective = True\n",
    "    domain = constraints.interval(-math.pi, math.pi)\n",
    "    codomain = constraints.interval(-math.pi, math.pi)\n",
    "\n",
    "    def __init__(self, rho):\n",
    "        super().__init__()\n",
    "        self.rho = rho\n",
    "\n",
    "    def _call(self, z):\n",
    "        return 2 * torch.atan((1 - self.rho) / (1 + self.rho) * torch.tan(z / 2))\n",
    "\n",
    "    def _inverse(self, y):\n",
    "        return 2 * torch.atan((1 + self.rho) / (1 - self.rho) * torch.tan(y / 2))\n",
    "\n",
    "    def log_abs_det_jacobian(self, z, y):\n",
    "        return -torch.log(\n",
    "            (1 - self.rho.pow(2)) / (1 + self.rho.pow(2) - 2 * self.rho * torch.cos(y))\n",
    "        )\n",
    "\n",
    "\n",
    "concentrations = torch.linspace(1, 10, 24)\n",
    "acceptances = []\n",
    "for conc in concentrations:\n",
    "    acceptances.append(\n",
    "        metropolis_acceptance(\n",
    "            TransformedDistribution(\n",
    "                base_distribution=Uniform(low=-math.pi, high=math.pi),\n",
    "                transforms=MobiusTransform(torch.exp(-1 / conc.sqrt())),\n",
    "            ),\n",
    "            VonMises(loc=0, concentration=conc),\n",
    "        )\n",
    "    )\n",
    "fig, ax = plt.subplots()\n",
    "ax.plot(concentrations, acceptances, \"o-\")\n",
    "ax.set_xlabel(\"concentration, rho\")\n",
    "ax.set_ylabel(\"Metropolis acceptance\")\n",
    "ax.set_title(\"Wrapped Cauchy\")\n",
    "fig.savefig(\"acceptance_cauchy_vonmises_1-10.png\")"
   ]
  },
  {
   "cell_type": "code",
   "execution_count": null,
   "id": "74c67f66-11ae-43c5-976b-8ce19621446f",
   "metadata": {},
   "outputs": [],
   "source": []
  }
 ],
 "metadata": {
  "kernelspec": {
   "display_name": "Python 3",
   "language": "python",
   "name": "python3"
  },
  "language_info": {
   "codemirror_mode": {
    "name": "ipython",
    "version": 3
   },
   "file_extension": ".py",
   "mimetype": "text/x-python",
   "name": "python",
   "nbconvert_exporter": "python",
   "pygments_lexer": "ipython3",
   "version": "3.9.7"
  }
 },
 "nbformat": 4,
 "nbformat_minor": 5
}
